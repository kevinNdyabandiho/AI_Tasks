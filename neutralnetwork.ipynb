{
  "nbformat": 4,
  "nbformat_minor": 0,
  "metadata": {
    "colab": {
      "provenance": [],
      "authorship_tag": "ABX9TyN0/tvhEhF146DyjR0y8b6C",
      "include_colab_link": true
    },
    "kernelspec": {
      "name": "python3",
      "display_name": "Python 3"
    },
    "language_info": {
      "name": "python"
    }
  },
  "cells": [
    {
      "cell_type": "markdown",
      "metadata": {
        "id": "view-in-github",
        "colab_type": "text"
      },
      "source": [
        "<a href=\"https://colab.research.google.com/github/kevinNdyabandiho/AI_Tasks/blob/main/neutralnetwork.ipynb\" target=\"_parent\"><img src=\"https://colab.research.google.com/assets/colab-badge.svg\" alt=\"Open In Colab\"/></a>"
      ]
    },
    {
      "cell_type": "code",
      "source": [
        "import numpy as np"
      ],
      "metadata": {
        "id": "ULAvNFYOVupA"
      },
      "execution_count": 1,
      "outputs": []
    },
    {
      "cell_type": "code",
      "source": [
        "def sigmoid(x):\n",
        "    return 1 / (1 + np.exp(-x))"
      ],
      "metadata": {
        "id": "jk8l3yP_VzII"
      },
      "execution_count": 2,
      "outputs": []
    },
    {
      "cell_type": "code",
      "source": [
        "training_inputs = np.array([\n",
        "    [0, 0, 1],\n",
        "    [1, 1, 1],\n",
        "    [1, 0, 1],\n",
        "    [0, 1, 1]\n",
        "])\n",
        "\n",
        "\n",
        "training_outputs = np.array([[0, 1, 1, 0]]).T # convert to column vector (4 by 1 matrix)"
      ],
      "metadata": {
        "id": "1gsZS2IbV1-f"
      },
      "execution_count": 3,
      "outputs": []
    },
    {
      "cell_type": "code",
      "source": [
        "np.random.seed(1)"
      ],
      "metadata": {
        "id": "A86ZAoBgV5Af"
      },
      "execution_count": 4,
      "outputs": []
    },
    {
      "cell_type": "code",
      "source": [
        "synaptic_weights = 2 * np.random.random((3, 1)) - 1"
      ],
      "metadata": {
        "id": "JzuqOG3qV7vp"
      },
      "execution_count": 5,
      "outputs": []
    },
    {
      "cell_type": "code",
      "source": [
        "print('Starting weights')\n",
        "print(synaptic_weights)"
      ],
      "metadata": {
        "id": "G3v8J-QSV-aZ"
      },
      "execution_count": null,
      "outputs": []
    },
    {
      "cell_type": "markdown",
      "source": [
        "1. Take inputs, feed into network then perform foward prop.; results in outputs\n",
        "2. Use outputs from `1` above to get erros\n",
        "3. Adjust Weights\n",
        "4. Repeat n times `(where n = epochs)`"
      ],
      "metadata": {
        "id": "Mk9hL3NgWM7D"
      }
    }
  ]
}